{
 "cells": [
  {
   "cell_type": "markdown",
   "metadata": {},
   "source": [
    "## Punto 8\n",
    "Realice secuencialmente la simulación del lanzamiento de un dado, de manera que en cada lanzamiento encuentre la proporción de veces que sale el número 5 (es decir, vamos a estimar de manera secuencial con el enfoque frecuentista del evento que al lanzar un dado se obtenga el número 5). Comente los resultados de cómo es la probabilidad cuando se hacen: 2 lanzamientos, 6 lanzamientos, 10 lanzamientos, 100 lanzamientos, 1000 lanzamientos.\n",
    "¿La proporción de veces que sale el dado es equivalente a la teórica? Adicionalmente, construya un gráfico donde se evidencie la evolución de la proporción vs la cantidad de veces que se lanza el dado, interprete los resultados."
   ]
  },
  {
   "cell_type": "code",
   "execution_count": 1,
   "metadata": {},
   "outputs": [],
   "source": [
    "import numpy as np\n",
    "import matplotlib.pyplot as plt"
   ]
  },
  {
   "cell_type": "code",
   "execution_count": 2,
   "metadata": {},
   "outputs": [
    {
     "name": "stdout",
     "output_type": "stream",
     "text": [
      "Cuando de hicieron 2 lanzamientos el número 5 salió 0 veces, es decir, el 0.0% del total de lanzamientos\n",
      "Cuando de hicieron 6 lanzamientos el número 5 salió 0 veces, es decir, el 0.0% del total de lanzamientos\n",
      "Cuando de hicieron 10 lanzamientos el número 5 salió 1 veces, es decir, el 0.1% del total de lanzamientos\n",
      "Cuando de hicieron 100 lanzamientos el número 5 salió 13 veces, es decir, el 0.13% del total de lanzamientos\n",
      "Cuando de hicieron 1000 lanzamientos el número 5 salió 174 veces, es decir, el 0.17% del total de lanzamientos\n"
     ]
    }
   ],
   "source": [
    "freq = 0\n",
    "x = [2, 6, 10, 100, 1000]\n",
    "y = []\n",
    "for i in range(1000):\n",
    "    num = np.random.randint(1,7)\n",
    "    if num == 5:\n",
    "        freq +=1\n",
    "    if i+1 in [2, 6, 10, 100, 1000]:\n",
    "        print(f'Cuando de hicieron {i+1} lanzamientos el número 5 salió {freq} veces, es decir, el {round(freq/(i+1),2)}% del total de lanzamientos')\n",
    "        y.append(freq/(i+1))"
   ]
  },
  {
   "cell_type": "markdown",
   "metadata": {},
   "source": [
    "Entre más lanzamientos se van realizando, más se parece la proporción experimental a la teórica."
   ]
  },
  {
   "cell_type": "code",
   "execution_count": 3,
   "metadata": {},
   "outputs": [
    {
     "data": {
      "image/png": "[encoded data removed]",
      "text/plain": [
       "<Figure size 640x480 with 1 Axes>"
      ]
     },
     "metadata": {},
     "output_type": "display_data"
    }
   ],
   "source": [
    "x = [str(i) for i in x]\n",
    "plt.bar(x, y)\n",
    "plt.show()"
   ]
  }
 ],
 "metadata": {
  "kernelspec": {
   "display_name": "Python 3",
   "language": "python",
   "name": "python3"
  },
  "language_info": {
   "codemirror_mode": {
    "name": "ipython",
    "version": 3
   },
   "file_extension": ".py",
   "mimetype": "text/x-python",
   "name": "python",
   "nbconvert_exporter": "python",
   "pygments_lexer": "ipython3",
   "version": "3.10.2"
  }
 },
 "nbformat": 4,
 "nbformat_minor": 2
}
